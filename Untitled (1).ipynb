{
 "cells": [
  {
   "cell_type": "code",
   "execution_count": 2,
   "metadata": {
    "collapsed": false
   },
   "outputs": [],
   "source": [
    "import pandas as pd\n",
    "import numpy as np\n",
    "salaries = pd.read_csv(\"Salaries.csv\")\n",
    "from __future__ import print_function, division\n",
    "import thinkstats2\n",
    "import thinkplot\n",
    "%matplotlib inline"
   ]
  },
  {
   "cell_type": "code",
   "execution_count": 3,
   "metadata": {
    "collapsed": false
   },
   "outputs": [
    {
     "data": {
      "text/html": [
       "<div>\n",
       "<table border=\"1\" class=\"dataframe\">\n",
       "  <thead>\n",
       "    <tr style=\"text-align: right;\">\n",
       "      <th></th>\n",
       "      <th>yearID</th>\n",
       "      <th>teamID</th>\n",
       "      <th>lgID</th>\n",
       "      <th>playerID</th>\n",
       "      <th>salary</th>\n",
       "    </tr>\n",
       "  </thead>\n",
       "  <tbody>\n",
       "    <tr>\n",
       "      <th>0</th>\n",
       "      <td>1985</td>\n",
       "      <td>ATL</td>\n",
       "      <td>NL</td>\n",
       "      <td>barkele01</td>\n",
       "      <td>870000</td>\n",
       "    </tr>\n",
       "    <tr>\n",
       "      <th>1</th>\n",
       "      <td>1985</td>\n",
       "      <td>ATL</td>\n",
       "      <td>NL</td>\n",
       "      <td>bedrost01</td>\n",
       "      <td>550000</td>\n",
       "    </tr>\n",
       "    <tr>\n",
       "      <th>2</th>\n",
       "      <td>1985</td>\n",
       "      <td>ATL</td>\n",
       "      <td>NL</td>\n",
       "      <td>benedbr01</td>\n",
       "      <td>545000</td>\n",
       "    </tr>\n",
       "    <tr>\n",
       "      <th>3</th>\n",
       "      <td>1985</td>\n",
       "      <td>ATL</td>\n",
       "      <td>NL</td>\n",
       "      <td>campri01</td>\n",
       "      <td>633333</td>\n",
       "    </tr>\n",
       "    <tr>\n",
       "      <th>4</th>\n",
       "      <td>1985</td>\n",
       "      <td>ATL</td>\n",
       "      <td>NL</td>\n",
       "      <td>ceronri01</td>\n",
       "      <td>625000</td>\n",
       "    </tr>\n",
       "  </tbody>\n",
       "</table>\n",
       "</div>"
      ],
      "text/plain": [
       "   yearID teamID lgID   playerID  salary\n",
       "0    1985    ATL   NL  barkele01  870000\n",
       "1    1985    ATL   NL  bedrost01  550000\n",
       "2    1985    ATL   NL  benedbr01  545000\n",
       "3    1985    ATL   NL   campri01  633333\n",
       "4    1985    ATL   NL  ceronri01  625000"
      ]
     },
     "execution_count": 3,
     "metadata": {},
     "output_type": "execute_result"
    }
   ],
   "source": [
    "salaries.head()"
   ]
  },
  {
   "cell_type": "code",
   "execution_count": 4,
   "metadata": {
    "collapsed": false
   },
   "outputs": [],
   "source": [
    "between_1985_2001 = salaries[salaries.yearID < 2002 ]"
   ]
  },
  {
   "cell_type": "code",
   "execution_count": 5,
   "metadata": {
    "collapsed": false
   },
   "outputs": [],
   "source": [
    "between_1985_2001_graph = thinkstats2.Hist(between_1985_2001.yearID, label=\"Salary\")"
   ]
  },
  {
   "cell_type": "code",
   "execution_count": 6,
   "metadata": {
    "collapsed": false
   },
   "outputs": [
    {
     "data": {
      "image/png": "[encoded data removed]",
      "text/plain": [
       "<matplotlib.figure.Figure at 0xdfad8522e8>"
      ]
     },
     "metadata": {},
     "output_type": "display_data"
    }
   ],
   "source": [
    "thinkplot.Hist(between_1985_2001_graph)\n",
    "thinkplot.Config(xlabel='value of your data', ylabel='frequency')"
   ]
  },
  {
   "cell_type": "code",
   "execution_count": 9,
   "metadata": {
    "collapsed": false
   },
   "outputs": [],
   "source": [
    "up_to_2001 = salaries [salaries.yearID>2001]"
   ]
  },
  {
   "cell_type": "code",
   "execution_count": 12,
   "metadata": {
    "collapsed": true
   },
   "outputs": [],
   "source": [
    "up_to_2001_graph = thinkstats2.Hist(up_to_2001.yearID, label=\"Salary\")"
   ]
  },
  {
   "cell_type": "code",
   "execution_count": 13,
   "metadata": {
    "collapsed": false,
    "scrolled": true
   },
   "outputs": [
    {
     "data": {
      "image/png": "[encoded data removed]",
      "text/plain": [
       "<matplotlib.figure.Figure at 0xdfb180c4a8>"
      ]
     },
     "metadata": {},
     "output_type": "display_data"
    }
   ],
   "source": [
    "thinkplot.Hist(up_to_2001_graph)\n",
    "thinkplot.Config(xlabel='value of your data', ylabel='frequency')"
   ]
  },
  {
   "cell_type": "code",
   "execution_count": 29,
   "metadata": {
    "collapsed": false
   },
   "outputs": [
    {
     "data": {
      "image/png": "[encoded data removed]",
      "text/plain": [
       "<matplotlib.figure.Figure at 0xdfb1d924a8>"
      ]
     },
     "metadata": {},
     "output_type": "display_data"
    }
   ],
   "source": [
    "between_1985_2001_graph1 = thinkstats2.Pmf(between_1985_2001.yearID, label=\"Salary\")\n",
    "thinkplot.Pmf(between_1985_2001_graph1)\n",
    "thinkplot.Config(xlabel='value of your data', ylabel='Probabaility')"
   ]
  },
  {
   "cell_type": "code",
   "execution_count": 30,
   "metadata": {
    "collapsed": false
   },
   "outputs": [
    {
     "data": {
      "image/png": "[encoded data removed]",
      "text/plain": [
       "<matplotlib.figure.Figure at 0xdfb1acd908>"
      ]
     },
     "metadata": {},
     "output_type": "display_data"
    }
   ],
   "source": [
    "up_to_2001_graph1 = thinkstats2.Pmf(up_to_2001.yearID, label=\"Salary\")\n",
    "thinkplot.Pmf(up_to_2001_graph1)\n",
    "thinkplot.Config(xlabel='value of your data', ylabel='Probabality')"
   ]
  },
  {
   "cell_type": "code",
   "execution_count": 32,
   "metadata": {
    "collapsed": false
   },
   "outputs": [
    {
     "data": {
      "image/png": "[encoded data removed]",
      "text/plain": [
       "<matplotlib.figure.Figure at 0xdfb1cb4320>"
      ]
     },
     "metadata": {},
     "output_type": "display_data"
    }
   ],
   "source": [
    "between_1985_2001_graph2 = thinkstats2.Cdf(between_1985_2001.yearID, label=\"Salary\")\n",
    "thinkplot.Pmf(between_1985_2001_graph2)\n",
    "thinkplot.Config(xlabel='value of your data', ylabel='Probabaility')"
   ]
  },
  {
   "cell_type": "code",
   "execution_count": 34,
   "metadata": {
    "collapsed": false
   },
   "outputs": [
    {
     "data": {
      "image/png": "[encoded data removed]",
      "text/plain": [
       "<matplotlib.figure.Figure at 0xdfb3058320>"
      ]
     },
     "metadata": {},
     "output_type": "display_data"
    }
   ],
   "source": [
    "up_to_2001_graph2 = thinkstats2.Pmf(up_to_2001.yearID, label=\"Salary\")\n",
    "thinkplot.Cdf(up_to_2001_graph2)\n",
    "thinkplot.Config(xlabel='value of your data', ylabel='Probabality')"
   ]
  },
  {
   "cell_type": "code",
   "execution_count": 14,
   "metadata": {
    "collapsed": false
   },
   "outputs": [
    {
     "data": {
      "text/plain": [
       "22000000"
      ]
     },
     "execution_count": 14,
     "metadata": {},
     "output_type": "execute_result"
    }
   ],
   "source": [
    "maximum_salary_below2002 = max(between_1985_2001.salary)\n",
    "maximum_salary_below2002"
   ]
  },
  {
   "cell_type": "code",
   "execution_count": 15,
   "metadata": {
    "collapsed": false
   },
   "outputs": [
    {
     "data": {
      "text/plain": [
       "33000000"
      ]
     },
     "execution_count": 15,
     "metadata": {},
     "output_type": "execute_result"
    }
   ],
   "source": [
    "maximum_salary_upto2001 = max(up_to_2001.salary)\n",
    "maximum_salary_upto2001"
   ]
  },
  {
   "cell_type": "code",
   "execution_count": 16,
   "metadata": {
    "collapsed": false
   },
   "outputs": [
    {
     "data": {
      "text/plain": [
       "0"
      ]
     },
     "execution_count": 16,
     "metadata": {},
     "output_type": "execute_result"
    }
   ],
   "source": [
    "minumum_salary_below2002 = min(between_1985_2001.salary)\n",
    "minumum_salary_below2002"
   ]
  },
  {
   "cell_type": "code",
   "execution_count": 17,
   "metadata": {
    "collapsed": false
   },
   "outputs": [
    {
     "data": {
      "text/plain": [
       "165574"
      ]
     },
     "execution_count": 17,
     "metadata": {},
     "output_type": "execute_result"
    }
   ],
   "source": [
    "minumum_salary_upto2001 = min(up_to_2001.salary)\n",
    "minumum_salary_upto2001"
   ]
  },
  {
   "cell_type": "code",
   "execution_count": 18,
   "metadata": {
    "collapsed": false
   },
   "outputs": [
    {
     "data": {
      "text/plain": [
       "3247188.6950838077"
      ]
     },
     "execution_count": 18,
     "metadata": {},
     "output_type": "execute_result"
    }
   ],
   "source": [
    "mean_salary_upto2001 = up_to_2001.salary.mean()\n",
    "mean_salary_upto2001"
   ]
  },
  {
   "cell_type": "code",
   "execution_count": 19,
   "metadata": {
    "collapsed": false
   },
   "outputs": [
    {
     "data": {
      "text/plain": [
       "1050000.0"
      ]
     },
     "execution_count": 19,
     "metadata": {},
     "output_type": "execute_result"
    }
   ],
   "source": [
    "median_salary_upto2001 = up_to_2001.salary.median()\n",
    "median_salary_upto2001"
   ]
  },
  {
   "cell_type": "code",
   "execution_count": 20,
   "metadata": {
    "collapsed": false
   },
   "outputs": [
    {
     "data": {
      "text/plain": [
       "1048065.1133319006"
      ]
     },
     "execution_count": 20,
     "metadata": {},
     "output_type": "execute_result"
    }
   ],
   "source": [
    "mean_salary_below2002 = between_1985_2001.salary.mean()\n",
    "mean_salary_below2002"
   ]
  },
  {
   "cell_type": "code",
   "execution_count": 21,
   "metadata": {
    "collapsed": false
   },
   "outputs": [
    {
     "data": {
      "text/plain": [
       "350000.0"
      ]
     },
     "execution_count": 21,
     "metadata": {},
     "output_type": "execute_result"
    }
   ],
   "source": [
    "median_salary_below2002 = between_1985_2001.salary.median() \n",
    "median_salary_below2002"
   ]
  },
  {
   "cell_type": "code",
   "execution_count": 23,
   "metadata": {
    "collapsed": false,
    "scrolled": true
   },
   "outputs": [
    {
     "data": {
      "text/plain": [
       "{1985: 476299.44727272727,\n",
       " 1986: 417147.0433604336,\n",
       " 1987: 434729.4657097289,\n",
       " 1988: 453171.07692307694,\n",
       " 1989: 506323.0815752461,\n",
       " 1990: 511973.6943483276,\n",
       " 1991: 894961.1941605839,\n",
       " 1992: 1047520.5760728219,\n",
       " 1993: 976966.5590465872,\n",
       " 1994: 1049588.559954751,\n",
       " 1995: 964979.0740365111,\n",
       " 1996: 1027909.291084855,\n",
       " 1997: 1218687.4432432433,\n",
       " 1998: 1280844.5601202406,\n",
       " 1999: 1485316.8489065606,\n",
       " 2000: 1992984.5717703348,\n",
       " 2001: 2279841.0616279067,\n",
       " 2002: 2392526.621749409,\n",
       " 2003: 2573472.9480048367,\n",
       " 2004: 2491776.104693141,\n",
       " 2005: 2633830.803850782,\n",
       " 2006: 2834520.8998779,\n",
       " 2007: 2941435.851543943,\n",
       " 2008: 3136517.137850467,\n",
       " 2009: 3277646.979089791,\n",
       " 2010: 3278746.825301205,\n",
       " 2011: 3318838.249106079,\n",
       " 2012: 3458421.216981132,\n",
       " 2013: 3723344.353374233,\n",
       " 2014: 3980445.9139650874,\n",
       " 2015: 4301276.094247246,\n",
       " 2016: 4396409.603751466}"
      ]
     },
     "execution_count": 23,
     "metadata": {},
     "output_type": "execute_result"
    }
   ],
   "source": [
    "year_distrubution=dict()\n",
    "for i in range(1985,2017,1):\n",
    "    year_distrubution[i] = salaries.salary[salaries.yearID==i].mean() \n",
    "year_distrubution"
   ]
  },
  {
   "cell_type": "code",
   "execution_count": 43,
   "metadata": {
    "collapsed": false
   },
   "outputs": [
    {
     "data": {
      "text/plain": [
       "Pmf({1985: 0.007243166839211003, 1986: 0.006343626155444869, 1987: 0.006611005047531839, 1988: 0.006891449771049773, 1989: 0.007699741361011953, 1990: 0.00778567119211623, 1991: 0.013609827349249159, 1992: 0.01592982386069697, 1993: 0.014856896903876602, 1994: 0.015961272043900587, 1995: 0.014674601177086046, 1996: 0.01563159170881748, 1997: 0.018532787570521583, 1998: 0.0194780214362385, 1999: 0.022587466366638803, 2000: 0.030307655916804593, 2001: 0.034669931428241665, 2002: 0.03638355993863259, 2003: 0.03913524154883591, 2004: 0.037892863734350093, 2005: 0.040053113745523346, 2006: 0.04310504222628295, 2007: 0.04473091611078466, 2008: 0.047697550466580925, 2009: 0.04984373600582733, 2010: 0.0498604615545391, 2011: 0.050470138666496654, 2012: 0.052592800638960234, 2013: 0.0566215319075975, 2014: 0.06053131914049086, 2015: 0.06541023835012666, 2016: 0.06685694983653359})"
      ]
     },
     "execution_count": 43,
     "metadata": {},
     "output_type": "execute_result"
    }
   ],
   "source": [
    "pmf = thinkstats2.Pmf(year_distrubution)\n",
    "pmf"
   ]
  },
  {
   "cell_type": "code",
   "execution_count": 46,
   "metadata": {
    "collapsed": false,
    "scrolled": false
   },
   "outputs": [
    {
     "data": {
      "image/png": "[encoded data removed]",
      "text/plain": [
       "<matplotlib.figure.Figure at 0xdfb3108e10>"
      ]
     },
     "metadata": {},
     "output_type": "display_data"
    }
   ],
   "source": [
    "thinkplot.Pmf(pmf)\n",
    "thinkplot.Config(xlabel='Pregnancy length (weeks)', ylabel='Pmf')"
   ]
  },
  {
   "cell_type": "code",
   "execution_count": 50,
   "metadata": {
    "collapsed": false
   },
   "outputs": [
    {
     "data": {
      "image/png": "[encoded data removed]",
      "text/plain": [
       "<matplotlib.figure.Figure at 0xdfb3336978>"
      ]
     },
     "metadata": {},
     "output_type": "display_data"
    }
   ],
   "source": [
    "cdf = thinkstats2.Cdf(year_distrubution, label=\"Salary\")\n",
    "thinkplot.Cdf(cdf)\n",
    "thinkplot.Config(xlabel='value of your data', ylabel='Probabality')"
   ]
  },
  {
   "cell_type": "code",
   "execution_count": 53,
   "metadata": {
    "collapsed": false
   },
   "outputs": [
    {
     "data": {
      "image/png": "[encoded data removed]",
      "text/plain": [
       "<matplotlib.figure.Figure at 0xdfb1aebf60>"
      ]
     },
     "metadata": {},
     "output_type": "display_data"
    }
   ],
   "source": [
    "hist = thinkstats2.Hist(year_distrubution, label=\"Salary\")\n",
    "thinkplot.Hist(hist)\n",
    "thinkplot.Config(xlabel='value of your data', ylabel='Probabality')"
   ]
  },
  {
   "cell_type": "code",
   "execution_count": 54,
   "metadata": {
    "collapsed": true
   },
   "outputs": [],
   "source": []
  }
 ],
 "metadata": {
  "kernelspec": {
   "display_name": "Python 3",
   "language": "python",
   "name": "python3"
  },
  "language_info": {
   "codemirror_mode": {
    "name": "ipython",
    "version": 3
   },
   "file_extension": ".py",
   "mimetype": "text/x-python",
   "name": "python",
   "nbconvert_exporter": "python",
   "pygments_lexer": "ipython3",
   "version": "3.6.0"
  }
 },
 "nbformat": 4,
 "nbformat_minor": 2
}
